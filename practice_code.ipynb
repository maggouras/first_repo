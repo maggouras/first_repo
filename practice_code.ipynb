{
 "cells": [
  {
   "cell_type": "code",
   "execution_count": 5,
   "id": "83e8aea2-2567-4a4f-bc16-25cf909e6d0e",
   "metadata": {},
   "outputs": [
    {
     "name": "stdout",
     "output_type": "stream",
     "text": [
      "15.205295600000001\n"
     ]
    }
   ],
   "source": [
    "# Cell 1: Calculate the area of a circle\n",
    "# First, we define the value of pi and the radius of our circle\n",
    "pi = 3.14159\n",
    "radius = 2.2\n",
    "\n",
    "# Now we calculate the area using the formula: area = pi * radius^2\n",
    "area = pi * (radius**2)\n",
    "\n",
    "# Print the calculated area\n",
    "print(area)"
   ]
  },
  {
   "cell_type": "code",
   "execution_count": 6,
   "id": "f5057318-5285-4ce1-8eb2-90d411fcc964",
   "metadata": {},
   "outputs": [
    {
     "name": "stdout",
     "output_type": "stream",
     "text": [
      "15.205295600000001\n",
      "32.169881600000004\n"
     ]
    }
   ],
   "source": [
    "# Cell 2: Update the radius and see how the area changes\n",
    "# Increase the radius by 1\n",
    "radius = radius + 1\n",
    "\n",
    "# Notice: the previous 'area' variable has not updated yet\n",
    "print(area)  # area still holds the old value\n",
    "\n",
    "# Recalculate the area with the new radius\n",
    "area = pi * (radius**2)\n",
    "print(area)  # now the area reflects the updated radius\n"
   ]
  },
  {
   "cell_type": "code",
   "execution_count": 7,
   "id": "04e4d19f-3374-4de5-838f-31441da1b81a",
   "metadata": {},
   "outputs": [],
   "source": [
    "# Cell 3: Learn to comment/uncomment multiple lines at once\n",
    "# Highlight several lines and press CTRL+1 (Cmd+1 on Mac) to comment them\n",
    "# Press CTRL+1 again to uncomment\n",
    "\n",
    "# Example lines to try commenting:\n",
    "# area = pi*(radius**2)\n",
    "# print(area)\n",
    "# radius = radius + 1\n",
    "# area = pi*(radius**2)\n",
    "# print(area)\n"
   ]
  },
  {
   "cell_type": "code",
   "execution_count": 8,
   "id": "5083cc75-3d27-472c-81f1-c261af45547f",
   "metadata": {},
   "outputs": [
    {
     "name": "stdout",
     "output_type": "stream",
     "text": [
      "1\n"
     ]
    }
   ],
   "source": [
    "# Cell 4: Using autocomplete for long variable names\n",
    "# Define a long variable name (try not to do this in real projects!)\n",
    "a_very_long_variable_name_dont_name_them_this_long_pls = 0\n",
    "\n",
    "# Tip: Start typing 'a_ve' and press TAB to autocomplete the rest\n",
    "# Change the value of the variable to 1 using autocomplete\n",
    "a_very_long_variable_name_dont_name_them_this_long_pls = 1\n",
    "\n",
    "# Use autocomplete to print the value\n",
    "print(a_very_long_variable_name_dont_name_them_this_long_pls)\n"
   ]
  },
  {
   "cell_type": "code",
   "execution_count": null,
   "id": "ffed1bfb-5326-41f6-b69f-8bc42fbdd77d",
   "metadata": {},
   "outputs": [],
   "source": []
  }
 ],
 "metadata": {
  "kernelspec": {
   "display_name": "Python 3 (ipykernel)",
   "language": "python",
   "name": "python3"
  },
  "language_info": {
   "codemirror_mode": {
    "name": "ipython",
    "version": 3
   },
   "file_extension": ".py",
   "mimetype": "text/x-python",
   "name": "python",
   "nbconvert_exporter": "python",
   "pygments_lexer": "ipython3",
   "version": "3.12.7"
  }
 },
 "nbformat": 4,
 "nbformat_minor": 5
}
